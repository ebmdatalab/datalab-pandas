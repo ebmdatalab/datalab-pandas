{
 "cells": [
  {
   "cell_type": "markdown",
   "metadata": {},
   "source": [
    "# Reading from Google Sheets\n",
    "\n",
    "There are complicated read/write possibilities (e.g. [this](https://socraticowl.com/post/integrate-google-sheets-and-jupyter-notebooks/) and [this](https://github.com/robin900/gspread-dataframe)), but on the assumption we are happy to share contents of sheets publicly, the easiest thing is to publish a worksheet in CSV format using [Google Sheets \"publish\" functionality](https://support.google.com/docs/answer/183965).\n"
   ]
  },
  {
   "cell_type": "code",
   "execution_count": 14,
   "metadata": {},
   "outputs": [
    {
     "data": {
      "text/html": [
       "<div>\n",
       "<style scoped>\n",
       "    .dataframe tbody tr th:only-of-type {\n",
       "        vertical-align: middle;\n",
       "    }\n",
       "\n",
       "    .dataframe tbody tr th {\n",
       "        vertical-align: top;\n",
       "    }\n",
       "\n",
       "    .dataframe thead th {\n",
       "        text-align: right;\n",
       "    }\n",
       "</style>\n",
       "<table border=\"1\" class=\"dataframe\">\n",
       "  <thead>\n",
       "    <tr style=\"text-align: right;\">\n",
       "      <th></th>\n",
       "      <th>bnf_code</th>\n",
       "      <th>presentation</th>\n",
       "      <th>form_route</th>\n",
       "      <th>chemical</th>\n",
       "    </tr>\n",
       "  </thead>\n",
       "  <tbody>\n",
       "    <tr>\n",
       "      <th>0</th>\n",
       "      <td>0301040V0AAAAAA</td>\n",
       "      <td>Aclid/Formot_PdrFor Inh 396/11.8mcg(60D)</td>\n",
       "      <td>powderinhalation.inhalation</td>\n",
       "      <td>Aclidinium Brom/Formoterol</td>\n",
       "    </tr>\n",
       "    <tr>\n",
       "      <th>1</th>\n",
       "      <td>0301020R0AAAAAA</td>\n",
       "      <td>Aclidinium Brom_Pdr For Inh 375mcg (60D)</td>\n",
       "      <td>powderinhalation.inhalation</td>\n",
       "      <td>Aclidinium Bromide</td>\n",
       "    </tr>\n",
       "    <tr>\n",
       "      <th>2</th>\n",
       "      <td>0302000C0AABSBS</td>\n",
       "      <td>Beclomet Diprop_Inha B/A 400mcg (100 D)</td>\n",
       "      <td>powderinhalation.inhalation</td>\n",
       "      <td>Beclometasone Dipropionate</td>\n",
       "    </tr>\n",
       "    <tr>\n",
       "      <th>3</th>\n",
       "      <td>0301011E0AAADAD</td>\n",
       "      <td>Formoterol Fumar_Inh 12mcg (100D) CFF</td>\n",
       "      <td>pressurizedinhalation.inhalation</td>\n",
       "      <td>Formoterol Fumarate</td>\n",
       "    </tr>\n",
       "    <tr>\n",
       "      <th>4</th>\n",
       "      <td>0301011R0AAAAAA</td>\n",
       "      <td>Salbutamol_Inha 100mcg (200 D)</td>\n",
       "      <td>pressurizedinhalation.inhalation</td>\n",
       "      <td>Salbutamol</td>\n",
       "    </tr>\n",
       "  </tbody>\n",
       "</table>\n",
       "</div>"
      ],
      "text/plain": [
       "          bnf_code                              presentation  \\\n",
       "0  0301040V0AAAAAA  Aclid/Formot_PdrFor Inh 396/11.8mcg(60D)   \n",
       "1  0301020R0AAAAAA  Aclidinium Brom_Pdr For Inh 375mcg (60D)   \n",
       "2  0302000C0AABSBS   Beclomet Diprop_Inha B/A 400mcg (100 D)   \n",
       "3  0301011E0AAADAD     Formoterol Fumar_Inh 12mcg (100D) CFF   \n",
       "4  0301011R0AAAAAA            Salbutamol_Inha 100mcg (200 D)   \n",
       "\n",
       "                         form_route                    chemical  \n",
       "0       powderinhalation.inhalation  Aclidinium Brom/Formoterol  \n",
       "1       powderinhalation.inhalation          Aclidinium Bromide  \n",
       "2       powderinhalation.inhalation  Beclometasone Dipropionate  \n",
       "3  pressurizedinhalation.inhalation         Formoterol Fumarate  \n",
       "4  pressurizedinhalation.inhalation                  Salbutamol  "
      ]
     },
     "execution_count": 14,
     "metadata": {},
     "output_type": "execute_result"
    }
   ],
   "source": [
    "import pandas as pd\n",
    "\n",
    "# This URL obtained via the Google Sheets's `publish to the web` menu (File > Publish to the web; \n",
    "# select the worksheet from the first dropdown and \"comma-separated values\" from the second; \n",
    "# copy the link)\n",
    "google_sheet = \"https://docs.google.com/spreadsheets/d/e/2PACX-1vTefoHueV7W523NR2uc5ckS9zJFeuWFr2v84WkzThbobQq5KPKIqlued_UqRCy31YGhF4P3XEyJWlI8/pub?gid=252563648&single=true&output=csv\"\n",
    "\n",
    "pd.read_csv(google_sheet).head()"
   ]
  }
 ],
 "metadata": {
  "kernelspec": {
   "display_name": "Python (jupyter virtualenv)",
   "language": "python",
   "name": "jupyter"
  },
  "language_info": {
   "codemirror_mode": {
    "name": "ipython",
    "version": 3
   },
   "file_extension": ".py",
   "mimetype": "text/x-python",
   "name": "python",
   "nbconvert_exporter": "python",
   "pygments_lexer": "ipython3",
   "version": "3.6.5"
  },
  "main_language": "python"
 },
 "nbformat": 4,
 "nbformat_minor": 2
}
